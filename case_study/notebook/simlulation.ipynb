{
 "cells": [
  {
   "cell_type": "markdown",
   "metadata": {
    "pycharm": {
     "name": "#%% md\n"
    }
   },
   "source": [
    "# Simulation for same acc and same probability"
   ]
  },
  {
   "cell_type": "code",
   "execution_count": 18,
   "metadata": {
    "pycharm": {
     "name": "#%%\n"
    }
   },
   "outputs": [],
   "source": [
    "import os, sys, argparse\n",
    "from time import time\n",
    "import numpy as np\n",
    "np.random.seed(2023)\n",
    "sys.path.append('../pshap')\n",
    "from shap import ShapEngine\n",
    "import utils, data"
   ]
  },
  {
   "cell_type": "markdown",
   "metadata": {
    "pycharm": {
     "name": "#%% md\n"
    }
   },
   "source": [
    "## Load data\n",
    "\n",
    "- We use the Phoneme dataset and suppose 10% of data points in the training dataset is mislabeled.\n",
    "- A function data.load_data will load the train, val, and test datasets as well as a noisy index."
   ]
  },
  {
   "cell_type": "code",
   "execution_count": 19,
   "metadata": {
    "pycharm": {
     "name": "#%%\n"
    }
   },
   "outputs": [],
   "source": [
    "problem='classification'\n",
    "dataset='wind'\n",
    "dargs={'n_data_to_be_valued': 200, 'n_val': 200, 'n_test': 1000}"
   ]
  },
  {
   "cell_type": "code",
   "execution_count": 20,
   "metadata": {
    "pycharm": {
     "name": "#%%\n"
    }
   },
   "outputs": [
    {
     "name": "stdout",
     "output_type": "stream",
     "text": [
      "--------------------------------------------------\n",
      "Wind\n",
      "--------------------------------------------------\n",
      "------------------------------\n",
      "Train X: (200, 14)\n",
      "Val X: (200, 14)\n",
      "Test X: (1000, 14)\n",
      "------------------------------\n",
      "[100 100]\n"
     ]
    }
   ],
   "source": [
    "# Load dataset\n",
    "(X, y), (X_val, y_val), (X_test, y_test), noisy_index=data.load_data(problem, dataset, **dargs)\n",
    "\n",
    "print('-'*30)\n",
    "print(f'Train X: {X.shape}')\n",
    "print(f'Val X: {X_val.shape}')\n",
    "print(f'Test X: {X_test.shape}')\n",
    "print('-'*30)\n",
    "print(np.bincount(y))"
   ]
  },
  {
   "cell_type": "markdown",
   "metadata": {},
   "source": [
    "## Check the mariginal utility from acc and probability"
   ]
  },
  {
   "cell_type": "code",
   "execution_count": 21,
   "metadata": {},
   "outputs": [],
   "source": [
    "model_family='SVC'\n",
    "metric='accuracy'\n",
    "GR_threshold=1.05\n",
    "weights_list=[(1, 16), (1, 4), (1,1), (4,1), (16, 1)]"
   ]
  },
  {
   "cell_type": "code",
   "execution_count": 22,
   "metadata": {},
   "outputs": [
    {
     "name": "stdout",
     "output_type": "stream",
     "text": [
      "Source is initialized. A unit of sample is one data point\n"
     ]
    }
   ],
   "source": [
    "# Evaluate values\n",
    "shap_engine_acc=ShapEngine(X=X, y=y, X_val=X_val, y_val=y_val, \n",
    "                       problem=problem, model_family=model_family, \n",
    "                       metric=metric, GR_threshold=GR_threshold, max_iters=1)"
   ]
  },
  {
   "cell_type": "code",
   "execution_count": 23,
   "metadata": {},
   "outputs": [],
   "source": [
    "metric='likelihood'\n",
    "GR_threshold=1.05\n",
    "weights_list=[(1, 16), (1, 4), (1,1), (4,1), (16, 1)]"
   ]
  },
  {
   "cell_type": "code",
   "execution_count": 24,
   "metadata": {},
   "outputs": [
    {
     "name": "stdout",
     "output_type": "stream",
     "text": [
      "Source is initialized. A unit of sample is one data point\n"
     ]
    }
   ],
   "source": [
    "# Evaluate values\n",
    "shap_engine_proba=ShapEngine(X=X, y=y, X_val=X_val, y_val=y_val, \n",
    "                       problem=problem, model_family=model_family, \n",
    "                       metric=metric, GR_threshold=GR_threshold, max_iters=1)"
   ]
  },
  {
   "cell_type": "code",
   "execution_count": 25,
   "metadata": {},
   "outputs": [
    {
     "name": "stderr",
     "output_type": "stream",
     "text": [
      "  0%|          | 0/1000 [00:00<?, ?it/s]"
     ]
    },
    {
     "name": "stderr",
     "output_type": "stream",
     "text": [
      "100%|██████████| 1000/1000 [49:26<00:00,  2.97s/it]"
     ]
    },
    {
     "name": "stdout",
     "output_type": "stream",
     "text": [
      "num_valid: 198062\n",
      "num_same_acc: 109462\n",
      "num_same_proba: 103\n",
      "num_da_cond_sp: 102\n",
      "num_dp_cond_sa: 109461\n",
      "num_all_same: 1\n"
     ]
    },
    {
     "name": "stderr",
     "output_type": "stream",
     "text": [
      "\n"
     ]
    }
   ],
   "source": [
    "from tqdm import trange\n",
    "n = len(y)\n",
    "# set counter\n",
    "num_valid = 0\n",
    "num_same_acc, num_same_proba, num_da_cond_sp, num_dp_cond_sa, num_all_same = 0,0,0,0,0\n",
    "        \n",
    "for _ in trange(1000):\n",
    "    perm = np.arange(n)\n",
    "    np.random.shuffle(perm)\n",
    "\n",
    "    old_au = shap_engine_acc.init_score()\n",
    "    old_pu = shap_engine_proba.init_score()\n",
    "\n",
    "    for i in range(1, n+1):\n",
    "        # get utility and then mariginal contirbution\n",
    "        try:\n",
    "            shap_engine_acc.model.fit(X[perm[:i]], y[perm[:i]])\n",
    "            au = shap_engine_acc.value()\n",
    "        except ValueError:\n",
    "            continue\n",
    "            \n",
    "        try:\n",
    "            shap_engine_proba.model.fit(X[perm[:i]], y[perm[:i]])\n",
    "            pu = shap_engine_proba.value()\n",
    "        except ValueError:\n",
    "            continue\n",
    "        \n",
    "        num_valid += 1\n",
    "            \n",
    "        if old_au == au:\n",
    "            num_same_acc += 1\n",
    "            if old_pu != pu:\n",
    "                num_dp_cond_sa += 1\n",
    "                \n",
    "        if old_pu == pu:\n",
    "            num_same_proba += 1\n",
    "            if old_au != au:\n",
    "                num_da_cond_sp += 1\n",
    "                \n",
    "        if old_au == au and old_pu == pu:\n",
    "            num_all_same += 1\n",
    "                        \n",
    "        old_au = au\n",
    "        old_pu = pu\n",
    " \n",
    "print(f'num_valid: {num_valid}')\n",
    "print(f'num_same_acc: {num_same_acc}')\n",
    "print(f'num_same_proba: {num_same_proba}')\n",
    "print(f'num_da_cond_sp: {num_da_cond_sp}')\n",
    "print(f'num_dp_cond_sa: {num_dp_cond_sa}')\n",
    "print(f'num_all_same: {num_all_same}')"
   ]
  }
 ],
 "metadata": {
  "kernelspec": {
   "display_name": "torch38",
   "language": "python",
   "name": "python3"
  },
  "language_info": {
   "codemirror_mode": {
    "name": "ipython",
    "version": 3
   },
   "file_extension": ".py",
   "mimetype": "text/x-python",
   "name": "python",
   "nbconvert_exporter": "python",
   "pygments_lexer": "ipython3",
   "version": "3.8.15"
  },
  "orig_nbformat": 4
 },
 "nbformat": 4,
 "nbformat_minor": 2
}
